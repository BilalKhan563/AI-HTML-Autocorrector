{
 "cells": [
  {
   "cell_type": "code",
   "execution_count": 2,
   "id": "f42f32c0",
   "metadata": {},
   "outputs": [],
   "source": [
    "# Importing the necessary tools and libraries\n",
    "import pandas as pd\n",
    "import re\n",
    "from bs4 import BeautifulSoup\n",
    "import torch\n",
    "from sklearn.model_selection import train_test_split\n",
    "from transformers import BertTokenizer, BertForSequenceClassification\n",
    "from sklearn.metrics import accuracy_score"
   ]
  },
  {
   "cell_type": "code",
   "execution_count": 3,
   "id": "65ef9ffe",
   "metadata": {},
   "outputs": [
    {
     "data": {
      "text/html": [
       "<div>\n",
       "<style scoped>\n",
       "    .dataframe tbody tr th:only-of-type {\n",
       "        vertical-align: middle;\n",
       "    }\n",
       "\n",
       "    .dataframe tbody tr th {\n",
       "        vertical-align: top;\n",
       "    }\n",
       "\n",
       "    .dataframe thead th {\n",
       "        text-align: right;\n",
       "    }\n",
       "</style>\n",
       "<table border=\"1\" class=\"dataframe\">\n",
       "  <thead>\n",
       "    <tr style=\"text-align: right;\">\n",
       "      <th></th>\n",
       "      <th>Description</th>\n",
       "      <th>Bad_Practice</th>\n",
       "      <th>Proper_Practice</th>\n",
       "      <th>Bad_html</th>\n",
       "      <th>Proper_html</th>\n",
       "    </tr>\n",
       "  </thead>\n",
       "  <tbody>\n",
       "    <tr>\n",
       "      <th>0</th>\n",
       "      <td>Elements are improperly nested, causing render...</td>\n",
       "      <td>Improper Nesting of Elements</td>\n",
       "      <td>Ensure that HTML elements are properly nested,...</td>\n",
       "      <td>&lt;b&gt;&lt;i&gt;Text&lt;/b&gt;&lt;/i&gt;</td>\n",
       "      <td>&lt;b&gt;&lt;i&gt;Text&lt;/i&gt;&lt;/b&gt;</td>\n",
       "    </tr>\n",
       "    <tr>\n",
       "      <th>1</th>\n",
       "      <td>Non-semantic elements are used for critical co...</td>\n",
       "      <td>Not Using Semantic HTML</td>\n",
       "      <td>Use semantic HTML elements like &lt;header&gt;, &lt;nav...</td>\n",
       "      <td>&lt;div class=\"title\"&gt;Page Title&lt;/div&gt;</td>\n",
       "      <td>&lt;header&gt;&lt;h1&gt;Page Title&lt;/h1&gt;&lt;/header&gt;</td>\n",
       "    </tr>\n",
       "    <tr>\n",
       "      <th>2</th>\n",
       "      <td>Inline CSS within HTML elements makes code har...</td>\n",
       "      <td>Inline CSS</td>\n",
       "      <td>Place CSS in separate stylesheets and use clas...</td>\n",
       "      <td>&lt;p style=\"color: red;\"&gt;Red text&lt;/p&gt;</td>\n",
       "      <td>&lt;p class=\"red-text\"&gt;Red text&lt;/p&gt;</td>\n",
       "    </tr>\n",
       "    <tr>\n",
       "      <th>3</th>\n",
       "      <td>Deprecated elements and attributes (e.g., &lt;fon...</td>\n",
       "      <td>Deprecated Elements and Attributes</td>\n",
       "      <td>Use modern HTML5 elements and attributes and r...</td>\n",
       "      <td>&lt;font size=\"3\"&gt;Text&lt;/font&gt;</td>\n",
       "      <td>&lt;span style=\"font-size: 16px;\"&gt;Text&lt;/span&gt;</td>\n",
       "    </tr>\n",
       "    <tr>\n",
       "      <th>4</th>\n",
       "      <td>Not providing descriptive alt text for images ...</td>\n",
       "      <td>Lack of Alt Text for Images</td>\n",
       "      <td>Always include meaningful alt text for images ...</td>\n",
       "      <td>&lt;img src=\"image.jpg\"&gt;</td>\n",
       "      <td>&lt;img src=\"image.jpg\" alt=\"Description of the i...</td>\n",
       "    </tr>\n",
       "    <tr>\n",
       "      <th>5</th>\n",
       "      <td>HTML tags are left unclosed, leading to render...</td>\n",
       "      <td>Unclosed Tags</td>\n",
       "      <td>Ensure all tags are properly opened and closed.</td>\n",
       "      <td>&lt;strong&gt;Important text</td>\n",
       "      <td>&lt;strong&gt;Important text&lt;/strong&gt;</td>\n",
       "    </tr>\n",
       "    <tr>\n",
       "      <th>6</th>\n",
       "      <td>JavaScript is embedded directly within HTML, r...</td>\n",
       "      <td>Mixing HTML and JavaScript</td>\n",
       "      <td>Separate JavaScript code from HTML using exter...</td>\n",
       "      <td>&lt;p onclick=\"alert('Clicked!')\"&gt;Click me&lt;/p&gt;</td>\n",
       "      <td>&lt;p id=\"click-me\"&gt;Click me&lt;/p&gt;</td>\n",
       "    </tr>\n",
       "    <tr>\n",
       "      <th>7</th>\n",
       "      <td>Tables are used for layout purposes, making co...</td>\n",
       "      <td>Excessive Use of Tables for Layout</td>\n",
       "      <td>Use CSS for layout and reserve tables for tabu...</td>\n",
       "      <td>&lt;table&gt;&lt;tr&gt;&lt;td&gt;Content&lt;/td&gt;&lt;/tr&gt;&lt;/table&gt;</td>\n",
       "      <td>A CSS-based layout without tables for non-tabu...</td>\n",
       "    </tr>\n",
       "    <tr>\n",
       "      <th>8</th>\n",
       "      <td>Failure to design for mobile devices results i...</td>\n",
       "      <td>Neglecting Mobile Responsiveness</td>\n",
       "      <td>Implement responsive web design using media qu...</td>\n",
       "      <td>A non-responsive website that doesn't adapt to...</td>\n",
       "      <td>A responsive website that adjusts layout for d...</td>\n",
       "    </tr>\n",
       "    <tr>\n",
       "      <th>9</th>\n",
       "      <td>Special characters like \"&lt;\" and \"&amp;\" are not en...</td>\n",
       "      <td>Unencoded Special Characters</td>\n",
       "      <td>Use HTML entities or character encoding to dis...</td>\n",
       "      <td>&lt;p&gt;5 &lt; 3&lt;/p&gt;</td>\n",
       "      <td>&lt;p&gt;5 &amp;lt; 3&lt;/p&gt;</td>\n",
       "    </tr>\n",
       "  </tbody>\n",
       "</table>\n",
       "</div>"
      ],
      "text/plain": [
       "                                         Description  \\\n",
       "0  Elements are improperly nested, causing render...   \n",
       "1  Non-semantic elements are used for critical co...   \n",
       "2  Inline CSS within HTML elements makes code har...   \n",
       "3  Deprecated elements and attributes (e.g., <fon...   \n",
       "4  Not providing descriptive alt text for images ...   \n",
       "5  HTML tags are left unclosed, leading to render...   \n",
       "6  JavaScript is embedded directly within HTML, r...   \n",
       "7  Tables are used for layout purposes, making co...   \n",
       "8  Failure to design for mobile devices results i...   \n",
       "9  Special characters like \"<\" and \"&\" are not en...   \n",
       "\n",
       "                         Bad_Practice  \\\n",
       "0        Improper Nesting of Elements   \n",
       "1             Not Using Semantic HTML   \n",
       "2                          Inline CSS   \n",
       "3  Deprecated Elements and Attributes   \n",
       "4         Lack of Alt Text for Images   \n",
       "5                       Unclosed Tags   \n",
       "6          Mixing HTML and JavaScript   \n",
       "7  Excessive Use of Tables for Layout   \n",
       "8    Neglecting Mobile Responsiveness   \n",
       "9        Unencoded Special Characters   \n",
       "\n",
       "                                     Proper_Practice  \\\n",
       "0  Ensure that HTML elements are properly nested,...   \n",
       "1  Use semantic HTML elements like <header>, <nav...   \n",
       "2  Place CSS in separate stylesheets and use clas...   \n",
       "3  Use modern HTML5 elements and attributes and r...   \n",
       "4  Always include meaningful alt text for images ...   \n",
       "5    Ensure all tags are properly opened and closed.   \n",
       "6  Separate JavaScript code from HTML using exter...   \n",
       "7  Use CSS for layout and reserve tables for tabu...   \n",
       "8  Implement responsive web design using media qu...   \n",
       "9  Use HTML entities or character encoding to dis...   \n",
       "\n",
       "                                            Bad_html  \\\n",
       "0                                 <b><i>Text</b></i>   \n",
       "1                <div class=\"title\">Page Title</div>   \n",
       "2                <p style=\"color: red;\">Red text</p>   \n",
       "3                         <font size=\"3\">Text</font>   \n",
       "4                              <img src=\"image.jpg\">   \n",
       "5                             <strong>Important text   \n",
       "6        <p onclick=\"alert('Clicked!')\">Click me</p>   \n",
       "7           <table><tr><td>Content</td></tr></table>   \n",
       "8  A non-responsive website that doesn't adapt to...   \n",
       "9                                       <p>5 < 3</p>   \n",
       "\n",
       "                                         Proper_html  \n",
       "0                                 <b><i>Text</i></b>  \n",
       "1               <header><h1>Page Title</h1></header>  \n",
       "2                   <p class=\"red-text\">Red text</p>  \n",
       "3         <span style=\"font-size: 16px;\">Text</span>  \n",
       "4  <img src=\"image.jpg\" alt=\"Description of the i...  \n",
       "5                    <strong>Important text</strong>  \n",
       "6                      <p id=\"click-me\">Click me</p>  \n",
       "7  A CSS-based layout without tables for non-tabu...  \n",
       "8  A responsive website that adjusts layout for d...  \n",
       "9                                    <p>5 &lt; 3</p>  "
      ]
     },
     "execution_count": 3,
     "metadata": {},
     "output_type": "execute_result"
    }
   ],
   "source": [
    "# Loading the preoared dataset \n",
    "data = pd.read_csv('html.csv')\n",
    "data"
   ]
  },
  {
   "cell_type": "code",
   "execution_count": 43,
   "id": "7f3af1ff",
   "metadata": {},
   "outputs": [],
   "source": [
    "# Defing a funtion that preprocess Html text\n",
    "def preprocess_html(html_text):\n",
    "    # Passing parameters which removes Html tags and special characters\n",
    "    text = BeautifulSoup(html_text, 'html.parser').get_text()\n",
    "    text = re.sub(r'[^a-zA-Z0-9\\s]', '', text)\n",
    "    return text"
   ]
  },
  {
   "cell_type": "code",
   "execution_count": 44,
   "id": "3120382d",
   "metadata": {},
   "outputs": [],
   "source": [
    "data['Bad_html'] = data['Bad_html'].apply(preprocess_html)\n",
    "data['Proper_html'] = data['Proper_html'].apply(preprocess_html)\n"
   ]
  },
  {
   "cell_type": "code",
   "execution_count": 45,
   "id": "671c44ef",
   "metadata": {},
   "outputs": [],
   "source": [
    "# Spliting the data into test and train\n",
    "X_train, X_test, y_train, y_test = train_test_split(data['Bad_html'], data['Proper_html'], test_size=0.2, random_state=42)\n"
   ]
  },
  {
   "cell_type": "code",
   "execution_count": 46,
   "id": "6d13fa86",
   "metadata": {},
   "outputs": [
    {
     "name": "stderr",
     "output_type": "stream",
     "text": [
      "Some weights of BertForSequenceClassification were not initialized from the model checkpoint at bert-base-uncased and are newly initialized: ['classifier.weight', 'classifier.bias']\n",
      "You should probably TRAIN this model on a down-stream task to be able to use it for predictions and inference.\n"
     ]
    }
   ],
   "source": [
    "# Initializing the \"BERT\" Model and Tokenizer\n",
    "model_name = \"bert-base-uncased\"\n",
    "tokenizer = BertTokenizer.from_pretrained(model_name)\n",
    "model = BertForSequenceClassification.from_pretrained(model_name, num_labels=1)\n"
   ]
  },
  {
   "cell_type": "code",
   "execution_count": 47,
   "id": "90dbeda2",
   "metadata": {},
   "outputs": [],
   "source": [
    "# Tokenizing the input sequences\n",
    "X_train_encodings = tokenizer(X_train.tolist(), return_tensors='pt', padding=True, truncation=True, max_length=256)\n",
    "y_train_encodings = tokenizer(y_train.tolist(), return_tensors='pt', padding=True, truncation=True, max_length=256)\n"
   ]
  },
  {
   "cell_type": "code",
   "execution_count": 48,
   "id": "c71a19ca",
   "metadata": {},
   "outputs": [],
   "source": [
    "# Defining the function which autocorrect Html using the trained model\n",
    "def autocorrect_html(input_text):\n",
    "    input_ids = tokenizer.encode(input_text, return_tensors='pt')\n",
    "    output = model(input_ids)\n",
    "    corrected_ids = output.logits.squeeze().argmax()\n",
    "    corrected_text = tokenizer.decode(corrected_ids, skip_special_tokens=True)\n",
    "    return corrected_text"
   ]
  },
  {
   "cell_type": "code",
   "execution_count": 49,
   "id": "d951e1b6",
   "metadata": {},
   "outputs": [
    {
     "data": {
      "text/plain": [
       "('bert_model_directory\\\\tokenizer_config.json',\n",
       " 'bert_model_directory\\\\special_tokens_map.json',\n",
       " 'bert_model_directory\\\\vocab.txt',\n",
       " 'bert_model_directory\\\\added_tokens.json')"
      ]
     },
     "execution_count": 49,
     "metadata": {},
     "output_type": "execute_result"
    }
   ],
   "source": [
    "# Save the BERT model to a file\n",
    "model.save_pretrained(\"bert_model_directory\")\n",
    "tokenizer.save_pretrained(\"bert_model_directory\")"
   ]
  },
  {
   "cell_type": "code",
   "execution_count": null,
   "id": "9ad25467",
   "metadata": {},
   "outputs": [],
   "source": []
  },
  {
   "cell_type": "code",
   "execution_count": null,
   "id": "e5f1c0fc",
   "metadata": {},
   "outputs": [],
   "source": []
  },
  {
   "cell_type": "code",
   "execution_count": null,
   "id": "3006d9b7",
   "metadata": {},
   "outputs": [],
   "source": []
  },
  {
   "cell_type": "code",
   "execution_count": null,
   "id": "1a5b0951",
   "metadata": {},
   "outputs": [],
   "source": []
  }
 ],
 "metadata": {
  "kernelspec": {
   "display_name": "Python 3 (ipykernel)",
   "language": "python",
   "name": "python3"
  },
  "language_info": {
   "codemirror_mode": {
    "name": "ipython",
    "version": 3
   },
   "file_extension": ".py",
   "mimetype": "text/x-python",
   "name": "python",
   "nbconvert_exporter": "python",
   "pygments_lexer": "ipython3",
   "version": "3.10.13"
  }
 },
 "nbformat": 4,
 "nbformat_minor": 5
}
